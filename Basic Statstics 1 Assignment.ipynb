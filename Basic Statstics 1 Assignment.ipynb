{
 "cells": [
  {
   "cell_type": "raw",
   "id": "169aaf3a",
   "metadata": {},
   "source": []
  },
  {
   "cell_type": "raw",
   "id": "49a2f1d8",
   "metadata": {},
   "source": [
    "# Q1) Identify the Data type for the Following:\n",
    "\n",
    "\n",
    "\n",
    "Activity\t                                    Data Type\n",
    "\n",
    "Number of beatings from Wife\t                Discrete\n",
    "\n",
    "Results of rolling a dice                       Discrete\t\n",
    "\n",
    "Weight of a person\t                            Continuous\n",
    "\n",
    "Weight of Gold\t                                Continuous\n",
    "\n",
    "Distance between two places\t                    Continuous\n",
    "\n",
    "Length of a leaf                                Continuous\t\n",
    "\n",
    "Dog's weight\t                                Continuous\n",
    "\n",
    "Blue Color\t                                    Discrete                \n",
    "\n",
    "Number of kids\t                                Discrete\n",
    "\n",
    "Number of tickets in Indian railways\t        Discrete\n",
    "\n",
    "Number of times married\t                        Discrete\n",
    "\n",
    "Gender (Male or Female)\t                        Discrete"
   ]
  },
  {
   "cell_type": "raw",
   "id": "04fd1000",
   "metadata": {},
   "source": [
    "Q2) Identify the Data types, which were among the following\n",
    "Nominal, Ordinal, Interval, Ratio.\n",
    "\n",
    "\n",
    "\n",
    "Data\t                                     Data Type\n",
    "\n",
    "\n",
    "Gender\t                                     N0minal\n",
    "\n",
    "High School Class Ranking                    Ordinal\t                 \n",
    "\n",
    "celsius Temperature\t                         Interval \n",
    "\n",
    "Weight\t                                     Ratio\n",
    "\n",
    "Hair Color\t                                 Nominal\n",
    " \n",
    "Socioeconomic Status\t                     Ordinal\n",
    "\n",
    "Fahrenheit Temperature\t                     Interval \n",
    "\n",
    "Height\t                                     Ratio\n",
    "\n",
    "Type of living accommodation\t             Ordinal \n",
    "\n",
    "Level of Agreement\t                         Ordinal\n",
    "\n",
    "IQ(Intelligence Scale)\t                     Ratio \n",
    "\n",
    "Sales Figures\t                             Ratio\n",
    "\n",
    "Blood Group\t                                 Nominal\n",
    "\n",
    "Time Of Day\t                                 Ordinal\n",
    "\n",
    "Time on a Clock with Hands\t                 Interval\n",
    "\n",
    "Number of Children\t                         Nominal\n",
    "\n",
    "Religious Preference\t                     Nominal\n",
    "\n",
    "Barometer Pressure\t                         Interval\n",
    "\n",
    "SAT Scores\t                                 Interval\n",
    "\n",
    "Years of Education\t                         Ordinal\n"
   ]
  },
  {
   "cell_type": "code",
   "execution_count": null,
   "id": "1df7c433",
   "metadata": {},
   "outputs": [],
   "source": []
  },
  {
   "cell_type": "raw",
   "id": "9d30ee8f",
   "metadata": {},
   "source": []
  },
  {
   "cell_type": "markdown",
   "id": "85ef234b",
   "metadata": {},
   "source": [
    "# Q3) Three Coins are tossed, find the probability that two heads and one tail are obtained?\n",
    "\n",
    "\n",
    "S={H,T},{H,T},{H,T} then the \n",
    "event E is {HHT,HTH,THH}\n",
    "Let X be a random variable denoting the two heads  and one tail.\n",
    "P(X=2)=probability of occurrence of 2 heads and 1 tail.\n",
    "                      =P(HHT)+P(HTH)+P(THH)\n",
    "                      = 1/2.1/2.1/2 + 1/2.1/2.1/2 + 1/2.1/2.1/2\n",
    "                      = 3/8\n"
   ]
  },
  {
   "cell_type": "code",
   "execution_count": null,
   "id": "41976269",
   "metadata": {},
   "outputs": [],
   "source": []
  },
  {
   "cell_type": "markdown",
   "id": "46c0cbe0",
   "metadata": {},
   "source": [
    "# Q4)  Two Dice are rolled, find the probability that sum is\n",
    "a)\tEqual to 1\n",
    "    \n",
    "    With two dice, there are ( 6 ) * ( 6 ) = ( 36 ) possible combinations of     numbers.\n",
    "    no. of possible outcomes with sum = 1 ,is = 0\n",
    "    probability = 0/36 = 0\n",
    "    \n",
    "b)\tLess than or equal to 4\n",
    "   \n",
    "    With two dice, there are ( 6 ) * ( 6 ) = ( 36 ) possible combinations of      numbers.\n",
    "    no. of possible outcomes with sum<=4, is (1,1),(1,2),(2,1),(2,2),(3,1),                                                 (1,3) \n",
    "    probability = 6/36 = 1/6\n",
    "    \n",
    "    \n",
    "    \n",
    "c)\tSum is divisible by 2 and  3\n",
    "\n",
    "     With two dice, there are ( 6 ) * ( 6 ) = ( 36 ) possible combinations of         numbers.\n",
    "      no. of possible outcomes with sum is divisible by 2 and  3\n",
    "      = (2,4),(4,2),(6,6)\n",
    "      probability = 3/36 = 1/12"
   ]
  },
  {
   "cell_type": "code",
   "execution_count": null,
   "id": "140814fe",
   "metadata": {},
   "outputs": [],
   "source": []
  },
  {
   "cell_type": "markdown",
   "id": "51d5ce16",
   "metadata": {},
   "source": [
    "# Q5)  A bag contains 2 red, 3 green and 2 blue balls. Two balls are drawn at random. What is the probability that none of the balls drawn is blue?\n",
    "\n",
    "     Total number of balls\n",
    "      = (2 + 3 + 2)\n",
    "       = 7\n",
    "       Let S be the sample space\n",
    "    Then, n(S) = Number of ways of drawing 2 balls out of 7\n",
    "    n(S)=7C2n(S)=(7×6)(2×1)n(S)=21\n",
    "\n",
    "      Let E = Event of 2 balls, none of which is blue\n",
    "    ∴ n(E) = Number of ways of drawing 2 balls out of (2 + 3) balls\n",
    "     n(E)=5C2n(E)=(5×4)(2×1)n(E)=10∴P(E)=n(E)n(S)=10/21\n",
    "\n"
   ]
  },
  {
   "cell_type": "code",
   "execution_count": null,
   "id": "c36bd60c",
   "metadata": {},
   "outputs": [],
   "source": []
  },
  {
   "cell_type": "markdown",
   "id": "fa52cff2",
   "metadata": {},
   "source": [
    "# Q6) Calculate the Expected number of candies for a randomly selected child \n",
    "Below are the probabilities of count of candies for children (ignoring the nature of the child-Generalized view)\n",
    "\n",
    "CHILD\tCandies count\tProbability\n",
    "A\t1\t0.015\n",
    "B\t4\t0.20\n",
    "C\t3\t0.65\n",
    "D\t5\t0.005\n",
    "E\t6\t0.01\n",
    "F\t2\t0.120\n",
    "\n",
    "Child A – probability of having 1 candy = 0.015.\n",
    "\n",
    "Child B – probability of having 4 candies = 0.20\n",
    "\n",
    "     Solution :- \n",
    "             0.015+0.8+1.95+0.025+0.06+0.24 = 3.09"
   ]
  },
  {
   "cell_type": "code",
   "execution_count": null,
   "id": "a0d1635d",
   "metadata": {},
   "outputs": [],
   "source": []
  },
  {
   "cell_type": "code",
   "execution_count": 69,
   "id": "2118703c",
   "metadata": {},
   "outputs": [],
   "source": [
    "import numpy as np\n",
    "import pandas as pd\n",
    "import matplotlib.pyplot as plt\n",
    "import seaborn as sns\n",
    "%matplotlib inline"
   ]
  },
  {
   "cell_type": "markdown",
   "id": "99dc7525",
   "metadata": {},
   "source": [
    "# Q7) Calculate Mean, Median, Mode, Variance, Standard Deviation, Range &     comment about the values / draw inferences, for the given dataset\n",
    "-\tFor Points,Score,Weigh>\n",
    "Find Mean, Median, Mode, Variance, Standard Deviation, and Range and also Comment about the values/ Draw some inferences.\n"
   ]
  },
  {
   "cell_type": "code",
   "execution_count": 67,
   "id": "0e45e238",
   "metadata": {},
   "outputs": [
    {
     "data": {
      "text/html": [
       "<div>\n",
       "<style scoped>\n",
       "    .dataframe tbody tr th:only-of-type {\n",
       "        vertical-align: middle;\n",
       "    }\n",
       "\n",
       "    .dataframe tbody tr th {\n",
       "        vertical-align: top;\n",
       "    }\n",
       "\n",
       "    .dataframe thead th {\n",
       "        text-align: right;\n",
       "    }\n",
       "</style>\n",
       "<table border=\"1\" class=\"dataframe\">\n",
       "  <thead>\n",
       "    <tr style=\"text-align: right;\">\n",
       "      <th></th>\n",
       "      <th>Unnamed: 0</th>\n",
       "      <th>Points</th>\n",
       "      <th>Score</th>\n",
       "      <th>Weigh</th>\n",
       "    </tr>\n",
       "  </thead>\n",
       "  <tbody>\n",
       "    <tr>\n",
       "      <th>0</th>\n",
       "      <td>Mazda RX4</td>\n",
       "      <td>3.90</td>\n",
       "      <td>2.620</td>\n",
       "      <td>16.46</td>\n",
       "    </tr>\n",
       "    <tr>\n",
       "      <th>1</th>\n",
       "      <td>Mazda RX4 Wag</td>\n",
       "      <td>3.90</td>\n",
       "      <td>2.875</td>\n",
       "      <td>17.02</td>\n",
       "    </tr>\n",
       "    <tr>\n",
       "      <th>2</th>\n",
       "      <td>Datsun 710</td>\n",
       "      <td>3.85</td>\n",
       "      <td>2.320</td>\n",
       "      <td>18.61</td>\n",
       "    </tr>\n",
       "    <tr>\n",
       "      <th>3</th>\n",
       "      <td>Hornet 4 Drive</td>\n",
       "      <td>3.08</td>\n",
       "      <td>3.215</td>\n",
       "      <td>19.44</td>\n",
       "    </tr>\n",
       "    <tr>\n",
       "      <th>4</th>\n",
       "      <td>Hornet Sportabout</td>\n",
       "      <td>3.15</td>\n",
       "      <td>3.440</td>\n",
       "      <td>17.02</td>\n",
       "    </tr>\n",
       "    <tr>\n",
       "      <th>5</th>\n",
       "      <td>Valiant</td>\n",
       "      <td>2.76</td>\n",
       "      <td>3.460</td>\n",
       "      <td>20.22</td>\n",
       "    </tr>\n",
       "    <tr>\n",
       "      <th>6</th>\n",
       "      <td>Duster 360</td>\n",
       "      <td>3.21</td>\n",
       "      <td>3.570</td>\n",
       "      <td>15.84</td>\n",
       "    </tr>\n",
       "    <tr>\n",
       "      <th>7</th>\n",
       "      <td>Merc 240D</td>\n",
       "      <td>3.69</td>\n",
       "      <td>3.190</td>\n",
       "      <td>20.00</td>\n",
       "    </tr>\n",
       "    <tr>\n",
       "      <th>8</th>\n",
       "      <td>Merc 230</td>\n",
       "      <td>3.92</td>\n",
       "      <td>3.150</td>\n",
       "      <td>22.90</td>\n",
       "    </tr>\n",
       "    <tr>\n",
       "      <th>9</th>\n",
       "      <td>Merc 280</td>\n",
       "      <td>3.92</td>\n",
       "      <td>3.440</td>\n",
       "      <td>18.30</td>\n",
       "    </tr>\n",
       "    <tr>\n",
       "      <th>10</th>\n",
       "      <td>Merc 280C</td>\n",
       "      <td>3.92</td>\n",
       "      <td>3.440</td>\n",
       "      <td>18.90</td>\n",
       "    </tr>\n",
       "    <tr>\n",
       "      <th>11</th>\n",
       "      <td>Merc 450SE</td>\n",
       "      <td>3.07</td>\n",
       "      <td>4.070</td>\n",
       "      <td>17.40</td>\n",
       "    </tr>\n",
       "    <tr>\n",
       "      <th>12</th>\n",
       "      <td>Merc 450SL</td>\n",
       "      <td>3.07</td>\n",
       "      <td>3.730</td>\n",
       "      <td>17.60</td>\n",
       "    </tr>\n",
       "    <tr>\n",
       "      <th>13</th>\n",
       "      <td>Merc 450SLC</td>\n",
       "      <td>3.07</td>\n",
       "      <td>3.780</td>\n",
       "      <td>18.00</td>\n",
       "    </tr>\n",
       "    <tr>\n",
       "      <th>14</th>\n",
       "      <td>Cadillac Fleetwood</td>\n",
       "      <td>2.93</td>\n",
       "      <td>5.250</td>\n",
       "      <td>17.98</td>\n",
       "    </tr>\n",
       "    <tr>\n",
       "      <th>15</th>\n",
       "      <td>Lincoln Continental</td>\n",
       "      <td>3.00</td>\n",
       "      <td>5.424</td>\n",
       "      <td>17.82</td>\n",
       "    </tr>\n",
       "    <tr>\n",
       "      <th>16</th>\n",
       "      <td>Chrysler Imperial</td>\n",
       "      <td>3.23</td>\n",
       "      <td>5.345</td>\n",
       "      <td>17.42</td>\n",
       "    </tr>\n",
       "    <tr>\n",
       "      <th>17</th>\n",
       "      <td>Fiat 128</td>\n",
       "      <td>4.08</td>\n",
       "      <td>2.200</td>\n",
       "      <td>19.47</td>\n",
       "    </tr>\n",
       "    <tr>\n",
       "      <th>18</th>\n",
       "      <td>Honda Civic</td>\n",
       "      <td>4.93</td>\n",
       "      <td>1.615</td>\n",
       "      <td>18.52</td>\n",
       "    </tr>\n",
       "    <tr>\n",
       "      <th>19</th>\n",
       "      <td>Toyota Corolla</td>\n",
       "      <td>4.22</td>\n",
       "      <td>1.835</td>\n",
       "      <td>19.90</td>\n",
       "    </tr>\n",
       "    <tr>\n",
       "      <th>20</th>\n",
       "      <td>Toyota Corona</td>\n",
       "      <td>3.70</td>\n",
       "      <td>2.465</td>\n",
       "      <td>20.01</td>\n",
       "    </tr>\n",
       "    <tr>\n",
       "      <th>21</th>\n",
       "      <td>Dodge Challenger</td>\n",
       "      <td>2.76</td>\n",
       "      <td>3.520</td>\n",
       "      <td>16.87</td>\n",
       "    </tr>\n",
       "    <tr>\n",
       "      <th>22</th>\n",
       "      <td>AMC Javelin</td>\n",
       "      <td>3.15</td>\n",
       "      <td>3.435</td>\n",
       "      <td>17.30</td>\n",
       "    </tr>\n",
       "    <tr>\n",
       "      <th>23</th>\n",
       "      <td>Camaro Z28</td>\n",
       "      <td>3.73</td>\n",
       "      <td>3.840</td>\n",
       "      <td>15.41</td>\n",
       "    </tr>\n",
       "    <tr>\n",
       "      <th>24</th>\n",
       "      <td>Pontiac Firebird</td>\n",
       "      <td>3.08</td>\n",
       "      <td>3.845</td>\n",
       "      <td>17.05</td>\n",
       "    </tr>\n",
       "    <tr>\n",
       "      <th>25</th>\n",
       "      <td>Fiat X1-9</td>\n",
       "      <td>4.08</td>\n",
       "      <td>1.935</td>\n",
       "      <td>18.90</td>\n",
       "    </tr>\n",
       "    <tr>\n",
       "      <th>26</th>\n",
       "      <td>Porsche 914-2</td>\n",
       "      <td>4.43</td>\n",
       "      <td>2.140</td>\n",
       "      <td>16.70</td>\n",
       "    </tr>\n",
       "    <tr>\n",
       "      <th>27</th>\n",
       "      <td>Lotus Europa</td>\n",
       "      <td>3.77</td>\n",
       "      <td>1.513</td>\n",
       "      <td>16.90</td>\n",
       "    </tr>\n",
       "    <tr>\n",
       "      <th>28</th>\n",
       "      <td>Ford Pantera L</td>\n",
       "      <td>4.22</td>\n",
       "      <td>3.170</td>\n",
       "      <td>14.50</td>\n",
       "    </tr>\n",
       "    <tr>\n",
       "      <th>29</th>\n",
       "      <td>Ferrari Dino</td>\n",
       "      <td>3.62</td>\n",
       "      <td>2.770</td>\n",
       "      <td>15.50</td>\n",
       "    </tr>\n",
       "    <tr>\n",
       "      <th>30</th>\n",
       "      <td>Maserati Bora</td>\n",
       "      <td>3.54</td>\n",
       "      <td>3.570</td>\n",
       "      <td>14.60</td>\n",
       "    </tr>\n",
       "    <tr>\n",
       "      <th>31</th>\n",
       "      <td>Volvo 142E</td>\n",
       "      <td>4.11</td>\n",
       "      <td>2.780</td>\n",
       "      <td>18.60</td>\n",
       "    </tr>\n",
       "  </tbody>\n",
       "</table>\n",
       "</div>"
      ],
      "text/plain": [
       "             Unnamed: 0  Points  Score  Weigh\n",
       "0             Mazda RX4    3.90  2.620  16.46\n",
       "1         Mazda RX4 Wag    3.90  2.875  17.02\n",
       "2            Datsun 710    3.85  2.320  18.61\n",
       "3        Hornet 4 Drive    3.08  3.215  19.44\n",
       "4     Hornet Sportabout    3.15  3.440  17.02\n",
       "5               Valiant    2.76  3.460  20.22\n",
       "6            Duster 360    3.21  3.570  15.84\n",
       "7             Merc 240D    3.69  3.190  20.00\n",
       "8              Merc 230    3.92  3.150  22.90\n",
       "9              Merc 280    3.92  3.440  18.30\n",
       "10            Merc 280C    3.92  3.440  18.90\n",
       "11           Merc 450SE    3.07  4.070  17.40\n",
       "12           Merc 450SL    3.07  3.730  17.60\n",
       "13          Merc 450SLC    3.07  3.780  18.00\n",
       "14   Cadillac Fleetwood    2.93  5.250  17.98\n",
       "15  Lincoln Continental    3.00  5.424  17.82\n",
       "16    Chrysler Imperial    3.23  5.345  17.42\n",
       "17             Fiat 128    4.08  2.200  19.47\n",
       "18          Honda Civic    4.93  1.615  18.52\n",
       "19       Toyota Corolla    4.22  1.835  19.90\n",
       "20        Toyota Corona    3.70  2.465  20.01\n",
       "21     Dodge Challenger    2.76  3.520  16.87\n",
       "22          AMC Javelin    3.15  3.435  17.30\n",
       "23           Camaro Z28    3.73  3.840  15.41\n",
       "24     Pontiac Firebird    3.08  3.845  17.05\n",
       "25            Fiat X1-9    4.08  1.935  18.90\n",
       "26        Porsche 914-2    4.43  2.140  16.70\n",
       "27         Lotus Europa    3.77  1.513  16.90\n",
       "28       Ford Pantera L    4.22  3.170  14.50\n",
       "29         Ferrari Dino    3.62  2.770  15.50\n",
       "30        Maserati Bora    3.54  3.570  14.60\n",
       "31           Volvo 142E    4.11  2.780  18.60"
      ]
     },
     "execution_count": 67,
     "metadata": {},
     "output_type": "execute_result"
    }
   ],
   "source": [
    "import pandas as pd\n",
    "data = pd.read_csv(\"Q7.csv\",sep=\",\")\n",
    "data"
   ]
  },
  {
   "cell_type": "code",
   "execution_count": 40,
   "id": "b75adeec",
   "metadata": {},
   "outputs": [
    {
     "data": {
      "text/plain": [
       "3.5965625"
      ]
     },
     "execution_count": 40,
     "metadata": {},
     "output_type": "execute_result"
    }
   ],
   "source": [
    "data[\"Points\"].mean()"
   ]
  },
  {
   "cell_type": "code",
   "execution_count": 41,
   "id": "c64684a6",
   "metadata": {},
   "outputs": [
    {
     "data": {
      "text/plain": [
       "3.6950000000000003"
      ]
     },
     "execution_count": 41,
     "metadata": {},
     "output_type": "execute_result"
    }
   ],
   "source": [
    "data[\"Points\"].median()"
   ]
  },
  {
   "cell_type": "code",
   "execution_count": 42,
   "id": "1065049d",
   "metadata": {},
   "outputs": [
    {
     "data": {
      "text/plain": [
       "0    3.07\n",
       "1    3.92\n",
       "Name: Points, dtype: float64"
      ]
     },
     "execution_count": 42,
     "metadata": {},
     "output_type": "execute_result"
    }
   ],
   "source": [
    "data[\"Points\"].mode()"
   ]
  },
  {
   "cell_type": "code",
   "execution_count": 43,
   "id": "3ce7a582",
   "metadata": {},
   "outputs": [
    {
     "data": {
      "text/plain": [
       "0.28588135080645166"
      ]
     },
     "execution_count": 43,
     "metadata": {},
     "output_type": "execute_result"
    }
   ],
   "source": [
    "data[\"Points\"].var()"
   ]
  },
  {
   "cell_type": "code",
   "execution_count": 44,
   "id": "d0f0191d",
   "metadata": {},
   "outputs": [
    {
     "data": {
      "text/plain": [
       "0.5346787360709716"
      ]
     },
     "execution_count": 44,
     "metadata": {},
     "output_type": "execute_result"
    }
   ],
   "source": [
    "data[\"Points\"].std()"
   ]
  },
  {
   "cell_type": "code",
   "execution_count": 45,
   "id": "d7bbe435",
   "metadata": {},
   "outputs": [
    {
     "data": {
      "text/plain": [
       "4.93"
      ]
     },
     "execution_count": 45,
     "metadata": {},
     "output_type": "execute_result"
    }
   ],
   "source": [
    "a = data[\"Points\"].max()\n",
    "a"
   ]
  },
  {
   "cell_type": "code",
   "execution_count": 46,
   "id": "5dc435a0",
   "metadata": {},
   "outputs": [
    {
     "data": {
      "text/plain": [
       "2.76"
      ]
     },
     "execution_count": 46,
     "metadata": {},
     "output_type": "execute_result"
    }
   ],
   "source": [
    "b = data[\"Points\"].min()\n",
    "b"
   ]
  },
  {
   "cell_type": "code",
   "execution_count": 47,
   "id": "0dac6918",
   "metadata": {},
   "outputs": [
    {
     "data": {
      "text/plain": [
       "2.17"
      ]
     },
     "execution_count": 47,
     "metadata": {},
     "output_type": "execute_result"
    }
   ],
   "source": [
    "range = a-b\n",
    "range"
   ]
  },
  {
   "cell_type": "code",
   "execution_count": 48,
   "id": "afdcab68",
   "metadata": {},
   "outputs": [
    {
     "data": {
      "text/plain": [
       "0     2.620\n",
       "1     2.875\n",
       "2     2.320\n",
       "3     3.215\n",
       "4     3.440\n",
       "5     3.460\n",
       "6     3.570\n",
       "7     3.190\n",
       "8     3.150\n",
       "9     3.440\n",
       "10    3.440\n",
       "11    4.070\n",
       "12    3.730\n",
       "13    3.780\n",
       "14    5.250\n",
       "15    5.424\n",
       "16    5.345\n",
       "17    2.200\n",
       "18    1.615\n",
       "19    1.835\n",
       "20    2.465\n",
       "21    3.520\n",
       "22    3.435\n",
       "23    3.840\n",
       "24    3.845\n",
       "25    1.935\n",
       "26    2.140\n",
       "27    1.513\n",
       "28    3.170\n",
       "29    2.770\n",
       "30    3.570\n",
       "31    2.780\n",
       "Name: Score, dtype: float64"
      ]
     },
     "execution_count": 48,
     "metadata": {},
     "output_type": "execute_result"
    }
   ],
   "source": [
    "data[\"Score\"]"
   ]
  },
  {
   "cell_type": "code",
   "execution_count": 49,
   "id": "43db1efb",
   "metadata": {},
   "outputs": [
    {
     "data": {
      "text/plain": [
       "3.2172500000000004"
      ]
     },
     "execution_count": 49,
     "metadata": {},
     "output_type": "execute_result"
    }
   ],
   "source": [
    "data[\"Score\"].mean()"
   ]
  },
  {
   "cell_type": "code",
   "execution_count": 50,
   "id": "3e6796fd",
   "metadata": {},
   "outputs": [
    {
     "data": {
      "text/plain": [
       "3.325"
      ]
     },
     "execution_count": 50,
     "metadata": {},
     "output_type": "execute_result"
    }
   ],
   "source": [
    "data[\"Score\"].median()"
   ]
  },
  {
   "cell_type": "code",
   "execution_count": 51,
   "id": "ec899824",
   "metadata": {},
   "outputs": [
    {
     "data": {
      "text/plain": [
       "0    3.44\n",
       "Name: Score, dtype: float64"
      ]
     },
     "execution_count": 51,
     "metadata": {},
     "output_type": "execute_result"
    }
   ],
   "source": [
    "data[\"Score\"].mode()"
   ]
  },
  {
   "cell_type": "code",
   "execution_count": 52,
   "id": "6354498d",
   "metadata": {},
   "outputs": [
    {
     "data": {
      "text/plain": [
       "0.9573789677419356"
      ]
     },
     "execution_count": 52,
     "metadata": {},
     "output_type": "execute_result"
    }
   ],
   "source": [
    "data[\"Score\"].var()"
   ]
  },
  {
   "cell_type": "code",
   "execution_count": 53,
   "id": "6e6b0d73",
   "metadata": {},
   "outputs": [
    {
     "data": {
      "text/plain": [
       "0.9784574429896967"
      ]
     },
     "execution_count": 53,
     "metadata": {},
     "output_type": "execute_result"
    }
   ],
   "source": [
    "data[\"Score\"].std()"
   ]
  },
  {
   "cell_type": "code",
   "execution_count": 54,
   "id": "6b1831ed",
   "metadata": {},
   "outputs": [
    {
     "data": {
      "text/plain": [
       "5.424"
      ]
     },
     "execution_count": 54,
     "metadata": {},
     "output_type": "execute_result"
    }
   ],
   "source": [
    "a = data[\"Score\"].max()\n",
    "a"
   ]
  },
  {
   "cell_type": "code",
   "execution_count": 55,
   "id": "7b508585",
   "metadata": {},
   "outputs": [
    {
     "data": {
      "text/plain": [
       "1.513"
      ]
     },
     "execution_count": 55,
     "metadata": {},
     "output_type": "execute_result"
    }
   ],
   "source": [
    "b = data[\"Score\"].min()\n",
    "b"
   ]
  },
  {
   "cell_type": "code",
   "execution_count": 56,
   "id": "4d318f82",
   "metadata": {},
   "outputs": [
    {
     "data": {
      "text/plain": [
       "3.9110000000000005"
      ]
     },
     "execution_count": 56,
     "metadata": {},
     "output_type": "execute_result"
    }
   ],
   "source": [
    "range = a-b\n",
    "range"
   ]
  },
  {
   "cell_type": "code",
   "execution_count": 57,
   "id": "150b19db",
   "metadata": {},
   "outputs": [
    {
     "data": {
      "text/plain": [
       "0     16.46\n",
       "1     17.02\n",
       "2     18.61\n",
       "3     19.44\n",
       "4     17.02\n",
       "5     20.22\n",
       "6     15.84\n",
       "7     20.00\n",
       "8     22.90\n",
       "9     18.30\n",
       "10    18.90\n",
       "11    17.40\n",
       "12    17.60\n",
       "13    18.00\n",
       "14    17.98\n",
       "15    17.82\n",
       "16    17.42\n",
       "17    19.47\n",
       "18    18.52\n",
       "19    19.90\n",
       "20    20.01\n",
       "21    16.87\n",
       "22    17.30\n",
       "23    15.41\n",
       "24    17.05\n",
       "25    18.90\n",
       "26    16.70\n",
       "27    16.90\n",
       "28    14.50\n",
       "29    15.50\n",
       "30    14.60\n",
       "31    18.60\n",
       "Name: Weigh, dtype: float64"
      ]
     },
     "execution_count": 57,
     "metadata": {},
     "output_type": "execute_result"
    }
   ],
   "source": [
    "data[\"Weigh\"]"
   ]
  },
  {
   "cell_type": "code",
   "execution_count": 58,
   "id": "efb8622c",
   "metadata": {},
   "outputs": [
    {
     "data": {
      "text/plain": [
       "17.848750000000003"
      ]
     },
     "execution_count": 58,
     "metadata": {},
     "output_type": "execute_result"
    }
   ],
   "source": [
    "data[\"Weigh\"].mean()"
   ]
  },
  {
   "cell_type": "code",
   "execution_count": 59,
   "id": "35a28cce",
   "metadata": {},
   "outputs": [
    {
     "data": {
      "text/plain": [
       "17.71"
      ]
     },
     "execution_count": 59,
     "metadata": {},
     "output_type": "execute_result"
    }
   ],
   "source": [
    "data[\"Weigh\"].median()"
   ]
  },
  {
   "cell_type": "code",
   "execution_count": 60,
   "id": "98181281",
   "metadata": {},
   "outputs": [
    {
     "data": {
      "text/plain": [
       "0    17.02\n",
       "1    18.90\n",
       "Name: Weigh, dtype: float64"
      ]
     },
     "execution_count": 60,
     "metadata": {},
     "output_type": "execute_result"
    }
   ],
   "source": [
    "data[\"Weigh\"].mode()"
   ]
  },
  {
   "cell_type": "code",
   "execution_count": 61,
   "id": "9e1939b7",
   "metadata": {},
   "outputs": [
    {
     "data": {
      "text/plain": [
       "3.193166129032258"
      ]
     },
     "execution_count": 61,
     "metadata": {},
     "output_type": "execute_result"
    }
   ],
   "source": [
    "data[\"Weigh\"].var()"
   ]
  },
  {
   "cell_type": "code",
   "execution_count": 62,
   "id": "39e7eaad",
   "metadata": {},
   "outputs": [
    {
     "data": {
      "text/plain": [
       "1.7869432360968431"
      ]
     },
     "execution_count": 62,
     "metadata": {},
     "output_type": "execute_result"
    }
   ],
   "source": [
    "data[\"Weigh\"].std()"
   ]
  },
  {
   "cell_type": "code",
   "execution_count": 63,
   "id": "8f48a6ba",
   "metadata": {},
   "outputs": [
    {
     "data": {
      "text/plain": [
       "22.9"
      ]
     },
     "execution_count": 63,
     "metadata": {},
     "output_type": "execute_result"
    }
   ],
   "source": [
    "a = data[\"Weigh\"].max()\n",
    "a\n"
   ]
  },
  {
   "cell_type": "code",
   "execution_count": 64,
   "id": "d86649d1",
   "metadata": {},
   "outputs": [
    {
     "data": {
      "text/plain": [
       "14.5"
      ]
     },
     "execution_count": 64,
     "metadata": {},
     "output_type": "execute_result"
    }
   ],
   "source": [
    "b = data[\"Weigh\"].min()\n",
    "b"
   ]
  },
  {
   "cell_type": "code",
   "execution_count": 65,
   "id": "8c8d1299",
   "metadata": {},
   "outputs": [
    {
     "data": {
      "text/plain": [
       "8.399999999999999"
      ]
     },
     "execution_count": 65,
     "metadata": {},
     "output_type": "execute_result"
    }
   ],
   "source": [
    "range = a-b\n",
    "range"
   ]
  },
  {
   "cell_type": "code",
   "execution_count": 71,
   "id": "77e634d1",
   "metadata": {},
   "outputs": [
    {
     "name": "stderr",
     "output_type": "stream",
     "text": [
      "C:\\Users\\VICTUS\\AppData\\Local\\Temp\\ipykernel_4832\\1076952989.py:2: MatplotlibDeprecationWarning: Auto-removal of overlapping axes is deprecated since 3.6 and will be removed two minor releases later; explicitly call ax.remove() as needed.\n",
      "  plt.subplot(1,3,1)\n"
     ]
    },
    {
     "data": {
      "image/png": "[encoded data removed]",
      "text/plain": [
       "<Figure size 1500x500 with 3 Axes>"
      ]
     },
     "metadata": {},
     "output_type": "display_data"
    }
   ],
   "source": [
    "f,ax=plt.subplots(figsize=(15,5))\n",
    "plt.subplot(1,3,1)\n",
    "plt.boxplot(data.Points)\n",
    "plt.title('Points')\n",
    "plt.subplot(1,3,2)\n",
    "plt.boxplot(data.Score)\n",
    "plt.title('Score')\n",
    "plt.subplot(1,3,3)\n",
    "plt.boxplot(data.Weigh)\n",
    "plt.title('Weigh')\n",
    "plt.show()"
   ]
  },
  {
   "cell_type": "code",
   "execution_count": null,
   "id": "73b5f3fd",
   "metadata": {},
   "outputs": [],
   "source": []
  },
  {
   "cell_type": "markdown",
   "id": "b2e222fa",
   "metadata": {},
   "source": [
    "# Q8) Calculate Expected Value for the problem below\n",
    "a)\tThe weights (X) of patients at a clinic (in pounds), are\n",
    "108, 110, 123, 134, 135, 145, 167, 187, 199\n",
    "Assume one of the patients is chosen at random. What is the Expected Value of the Weight of that patient?\n",
    "\n",
    "Solution:-\n",
    "\n",
    "Expected Value  =  ∑ ( probability  * Value )\n",
    "\n",
    " ∑ P(x).E(x)\n",
    "\n",
    "there are 9 patients\n",
    "\n",
    "Probability of selecting each patient = 1/9\n",
    "\n",
    "Ex  108, 110, 123, 134, 135, 145, 167, 187, 199\n",
    "\n",
    "P(x)  1/9  1/9   1/9  1/9   1/9   1/9   1/9   1/9  1/9\n",
    "\n",
    "Expected Value  =  (1/9)(108) + (1/9)110  + (1/9)123 + (1/9)134 + (1/9)135 + (1/9)145 + (1/9(167) + (1/9)187 + (1/9)199\n",
    "\n",
    "= (1/9) ( 108 + 110 + 123 + 134 + 135 + 145 + 167 + 187 + 199)\n",
    "\n",
    "= (1/9)  (  1308)\n",
    "\n",
    "= 145.33\n",
    "\n",
    "Expected Value of the Weight of that patient = 145.33\n",
    "\n"
   ]
  },
  {
   "cell_type": "code",
   "execution_count": null,
   "id": "becb5bf9",
   "metadata": {},
   "outputs": [],
   "source": []
  },
  {
   "cell_type": "markdown",
   "id": "303f0ea9",
   "metadata": {},
   "source": [
    "# Q9) Calculate Skewness, Kurtosis & draw inferences on the following data\n",
    "      Cars speed and distance \n",
    "\n"
   ]
  },
  {
   "cell_type": "code",
   "execution_count": 6,
   "id": "956dd165",
   "metadata": {},
   "outputs": [
    {
     "data": {
      "text/html": [
       "<div>\n",
       "<style scoped>\n",
       "    .dataframe tbody tr th:only-of-type {\n",
       "        vertical-align: middle;\n",
       "    }\n",
       "\n",
       "    .dataframe tbody tr th {\n",
       "        vertical-align: top;\n",
       "    }\n",
       "\n",
       "    .dataframe thead th {\n",
       "        text-align: right;\n",
       "    }\n",
       "</style>\n",
       "<table border=\"1\" class=\"dataframe\">\n",
       "  <thead>\n",
       "    <tr style=\"text-align: right;\">\n",
       "      <th></th>\n",
       "      <th>Index</th>\n",
       "      <th>speed</th>\n",
       "      <th>dist</th>\n",
       "    </tr>\n",
       "  </thead>\n",
       "  <tbody>\n",
       "    <tr>\n",
       "      <th>0</th>\n",
       "      <td>1</td>\n",
       "      <td>4</td>\n",
       "      <td>2</td>\n",
       "    </tr>\n",
       "    <tr>\n",
       "      <th>1</th>\n",
       "      <td>2</td>\n",
       "      <td>4</td>\n",
       "      <td>10</td>\n",
       "    </tr>\n",
       "    <tr>\n",
       "      <th>2</th>\n",
       "      <td>3</td>\n",
       "      <td>7</td>\n",
       "      <td>4</td>\n",
       "    </tr>\n",
       "    <tr>\n",
       "      <th>3</th>\n",
       "      <td>4</td>\n",
       "      <td>7</td>\n",
       "      <td>22</td>\n",
       "    </tr>\n",
       "    <tr>\n",
       "      <th>4</th>\n",
       "      <td>5</td>\n",
       "      <td>8</td>\n",
       "      <td>16</td>\n",
       "    </tr>\n",
       "    <tr>\n",
       "      <th>5</th>\n",
       "      <td>6</td>\n",
       "      <td>9</td>\n",
       "      <td>10</td>\n",
       "    </tr>\n",
       "    <tr>\n",
       "      <th>6</th>\n",
       "      <td>7</td>\n",
       "      <td>10</td>\n",
       "      <td>18</td>\n",
       "    </tr>\n",
       "    <tr>\n",
       "      <th>7</th>\n",
       "      <td>8</td>\n",
       "      <td>10</td>\n",
       "      <td>26</td>\n",
       "    </tr>\n",
       "    <tr>\n",
       "      <th>8</th>\n",
       "      <td>9</td>\n",
       "      <td>10</td>\n",
       "      <td>34</td>\n",
       "    </tr>\n",
       "    <tr>\n",
       "      <th>9</th>\n",
       "      <td>10</td>\n",
       "      <td>11</td>\n",
       "      <td>17</td>\n",
       "    </tr>\n",
       "    <tr>\n",
       "      <th>10</th>\n",
       "      <td>11</td>\n",
       "      <td>11</td>\n",
       "      <td>28</td>\n",
       "    </tr>\n",
       "    <tr>\n",
       "      <th>11</th>\n",
       "      <td>12</td>\n",
       "      <td>12</td>\n",
       "      <td>14</td>\n",
       "    </tr>\n",
       "    <tr>\n",
       "      <th>12</th>\n",
       "      <td>13</td>\n",
       "      <td>12</td>\n",
       "      <td>20</td>\n",
       "    </tr>\n",
       "    <tr>\n",
       "      <th>13</th>\n",
       "      <td>14</td>\n",
       "      <td>12</td>\n",
       "      <td>24</td>\n",
       "    </tr>\n",
       "    <tr>\n",
       "      <th>14</th>\n",
       "      <td>15</td>\n",
       "      <td>12</td>\n",
       "      <td>28</td>\n",
       "    </tr>\n",
       "    <tr>\n",
       "      <th>15</th>\n",
       "      <td>16</td>\n",
       "      <td>13</td>\n",
       "      <td>26</td>\n",
       "    </tr>\n",
       "    <tr>\n",
       "      <th>16</th>\n",
       "      <td>17</td>\n",
       "      <td>13</td>\n",
       "      <td>34</td>\n",
       "    </tr>\n",
       "    <tr>\n",
       "      <th>17</th>\n",
       "      <td>18</td>\n",
       "      <td>13</td>\n",
       "      <td>34</td>\n",
       "    </tr>\n",
       "    <tr>\n",
       "      <th>18</th>\n",
       "      <td>19</td>\n",
       "      <td>13</td>\n",
       "      <td>46</td>\n",
       "    </tr>\n",
       "    <tr>\n",
       "      <th>19</th>\n",
       "      <td>20</td>\n",
       "      <td>14</td>\n",
       "      <td>26</td>\n",
       "    </tr>\n",
       "    <tr>\n",
       "      <th>20</th>\n",
       "      <td>21</td>\n",
       "      <td>14</td>\n",
       "      <td>36</td>\n",
       "    </tr>\n",
       "    <tr>\n",
       "      <th>21</th>\n",
       "      <td>22</td>\n",
       "      <td>14</td>\n",
       "      <td>60</td>\n",
       "    </tr>\n",
       "    <tr>\n",
       "      <th>22</th>\n",
       "      <td>23</td>\n",
       "      <td>14</td>\n",
       "      <td>80</td>\n",
       "    </tr>\n",
       "    <tr>\n",
       "      <th>23</th>\n",
       "      <td>24</td>\n",
       "      <td>15</td>\n",
       "      <td>20</td>\n",
       "    </tr>\n",
       "    <tr>\n",
       "      <th>24</th>\n",
       "      <td>25</td>\n",
       "      <td>15</td>\n",
       "      <td>26</td>\n",
       "    </tr>\n",
       "    <tr>\n",
       "      <th>25</th>\n",
       "      <td>26</td>\n",
       "      <td>15</td>\n",
       "      <td>54</td>\n",
       "    </tr>\n",
       "    <tr>\n",
       "      <th>26</th>\n",
       "      <td>27</td>\n",
       "      <td>16</td>\n",
       "      <td>32</td>\n",
       "    </tr>\n",
       "    <tr>\n",
       "      <th>27</th>\n",
       "      <td>28</td>\n",
       "      <td>16</td>\n",
       "      <td>40</td>\n",
       "    </tr>\n",
       "    <tr>\n",
       "      <th>28</th>\n",
       "      <td>29</td>\n",
       "      <td>17</td>\n",
       "      <td>32</td>\n",
       "    </tr>\n",
       "    <tr>\n",
       "      <th>29</th>\n",
       "      <td>30</td>\n",
       "      <td>17</td>\n",
       "      <td>40</td>\n",
       "    </tr>\n",
       "    <tr>\n",
       "      <th>30</th>\n",
       "      <td>31</td>\n",
       "      <td>17</td>\n",
       "      <td>50</td>\n",
       "    </tr>\n",
       "    <tr>\n",
       "      <th>31</th>\n",
       "      <td>32</td>\n",
       "      <td>18</td>\n",
       "      <td>42</td>\n",
       "    </tr>\n",
       "    <tr>\n",
       "      <th>32</th>\n",
       "      <td>33</td>\n",
       "      <td>18</td>\n",
       "      <td>56</td>\n",
       "    </tr>\n",
       "    <tr>\n",
       "      <th>33</th>\n",
       "      <td>34</td>\n",
       "      <td>18</td>\n",
       "      <td>76</td>\n",
       "    </tr>\n",
       "    <tr>\n",
       "      <th>34</th>\n",
       "      <td>35</td>\n",
       "      <td>18</td>\n",
       "      <td>84</td>\n",
       "    </tr>\n",
       "    <tr>\n",
       "      <th>35</th>\n",
       "      <td>36</td>\n",
       "      <td>19</td>\n",
       "      <td>36</td>\n",
       "    </tr>\n",
       "    <tr>\n",
       "      <th>36</th>\n",
       "      <td>37</td>\n",
       "      <td>19</td>\n",
       "      <td>46</td>\n",
       "    </tr>\n",
       "    <tr>\n",
       "      <th>37</th>\n",
       "      <td>38</td>\n",
       "      <td>19</td>\n",
       "      <td>68</td>\n",
       "    </tr>\n",
       "    <tr>\n",
       "      <th>38</th>\n",
       "      <td>39</td>\n",
       "      <td>20</td>\n",
       "      <td>32</td>\n",
       "    </tr>\n",
       "    <tr>\n",
       "      <th>39</th>\n",
       "      <td>40</td>\n",
       "      <td>20</td>\n",
       "      <td>48</td>\n",
       "    </tr>\n",
       "    <tr>\n",
       "      <th>40</th>\n",
       "      <td>41</td>\n",
       "      <td>20</td>\n",
       "      <td>52</td>\n",
       "    </tr>\n",
       "    <tr>\n",
       "      <th>41</th>\n",
       "      <td>42</td>\n",
       "      <td>20</td>\n",
       "      <td>56</td>\n",
       "    </tr>\n",
       "    <tr>\n",
       "      <th>42</th>\n",
       "      <td>43</td>\n",
       "      <td>20</td>\n",
       "      <td>64</td>\n",
       "    </tr>\n",
       "    <tr>\n",
       "      <th>43</th>\n",
       "      <td>44</td>\n",
       "      <td>22</td>\n",
       "      <td>66</td>\n",
       "    </tr>\n",
       "    <tr>\n",
       "      <th>44</th>\n",
       "      <td>45</td>\n",
       "      <td>23</td>\n",
       "      <td>54</td>\n",
       "    </tr>\n",
       "    <tr>\n",
       "      <th>45</th>\n",
       "      <td>46</td>\n",
       "      <td>24</td>\n",
       "      <td>70</td>\n",
       "    </tr>\n",
       "    <tr>\n",
       "      <th>46</th>\n",
       "      <td>47</td>\n",
       "      <td>24</td>\n",
       "      <td>92</td>\n",
       "    </tr>\n",
       "    <tr>\n",
       "      <th>47</th>\n",
       "      <td>48</td>\n",
       "      <td>24</td>\n",
       "      <td>93</td>\n",
       "    </tr>\n",
       "    <tr>\n",
       "      <th>48</th>\n",
       "      <td>49</td>\n",
       "      <td>24</td>\n",
       "      <td>120</td>\n",
       "    </tr>\n",
       "    <tr>\n",
       "      <th>49</th>\n",
       "      <td>50</td>\n",
       "      <td>25</td>\n",
       "      <td>85</td>\n",
       "    </tr>\n",
       "  </tbody>\n",
       "</table>\n",
       "</div>"
      ],
      "text/plain": [
       "    Index  speed  dist\n",
       "0       1      4     2\n",
       "1       2      4    10\n",
       "2       3      7     4\n",
       "3       4      7    22\n",
       "4       5      8    16\n",
       "5       6      9    10\n",
       "6       7     10    18\n",
       "7       8     10    26\n",
       "8       9     10    34\n",
       "9      10     11    17\n",
       "10     11     11    28\n",
       "11     12     12    14\n",
       "12     13     12    20\n",
       "13     14     12    24\n",
       "14     15     12    28\n",
       "15     16     13    26\n",
       "16     17     13    34\n",
       "17     18     13    34\n",
       "18     19     13    46\n",
       "19     20     14    26\n",
       "20     21     14    36\n",
       "21     22     14    60\n",
       "22     23     14    80\n",
       "23     24     15    20\n",
       "24     25     15    26\n",
       "25     26     15    54\n",
       "26     27     16    32\n",
       "27     28     16    40\n",
       "28     29     17    32\n",
       "29     30     17    40\n",
       "30     31     17    50\n",
       "31     32     18    42\n",
       "32     33     18    56\n",
       "33     34     18    76\n",
       "34     35     18    84\n",
       "35     36     19    36\n",
       "36     37     19    46\n",
       "37     38     19    68\n",
       "38     39     20    32\n",
       "39     40     20    48\n",
       "40     41     20    52\n",
       "41     42     20    56\n",
       "42     43     20    64\n",
       "43     44     22    66\n",
       "44     45     23    54\n",
       "45     46     24    70\n",
       "46     47     24    92\n",
       "47     48     24    93\n",
       "48     49     24   120\n",
       "49     50     25    85"
      ]
     },
     "execution_count": 6,
     "metadata": {},
     "output_type": "execute_result"
    }
   ],
   "source": [
    "import pandas as pd\n",
    "data = pd.read_csv(\"Q9_a.csv\",sep=\",\")\n",
    "data"
   ]
  },
  {
   "cell_type": "code",
   "execution_count": 7,
   "id": "3d07cd40",
   "metadata": {},
   "outputs": [
    {
     "data": {
      "text/html": [
       "<div>\n",
       "<style scoped>\n",
       "    .dataframe tbody tr th:only-of-type {\n",
       "        vertical-align: middle;\n",
       "    }\n",
       "\n",
       "    .dataframe tbody tr th {\n",
       "        vertical-align: top;\n",
       "    }\n",
       "\n",
       "    .dataframe thead th {\n",
       "        text-align: right;\n",
       "    }\n",
       "</style>\n",
       "<table border=\"1\" class=\"dataframe\">\n",
       "  <thead>\n",
       "    <tr style=\"text-align: right;\">\n",
       "      <th></th>\n",
       "      <th>Index</th>\n",
       "      <th>speed</th>\n",
       "      <th>dist</th>\n",
       "    </tr>\n",
       "  </thead>\n",
       "  <tbody>\n",
       "    <tr>\n",
       "      <th>0</th>\n",
       "      <td>1</td>\n",
       "      <td>4</td>\n",
       "      <td>2</td>\n",
       "    </tr>\n",
       "    <tr>\n",
       "      <th>1</th>\n",
       "      <td>2</td>\n",
       "      <td>4</td>\n",
       "      <td>10</td>\n",
       "    </tr>\n",
       "    <tr>\n",
       "      <th>2</th>\n",
       "      <td>3</td>\n",
       "      <td>7</td>\n",
       "      <td>4</td>\n",
       "    </tr>\n",
       "    <tr>\n",
       "      <th>3</th>\n",
       "      <td>4</td>\n",
       "      <td>7</td>\n",
       "      <td>22</td>\n",
       "    </tr>\n",
       "    <tr>\n",
       "      <th>4</th>\n",
       "      <td>5</td>\n",
       "      <td>8</td>\n",
       "      <td>16</td>\n",
       "    </tr>\n",
       "  </tbody>\n",
       "</table>\n",
       "</div>"
      ],
      "text/plain": [
       "   Index  speed  dist\n",
       "0      1      4     2\n",
       "1      2      4    10\n",
       "2      3      7     4\n",
       "3      4      7    22\n",
       "4      5      8    16"
      ]
     },
     "execution_count": 7,
     "metadata": {},
     "output_type": "execute_result"
    }
   ],
   "source": [
    "data.head(5)"
   ]
  },
  {
   "cell_type": "code",
   "execution_count": 13,
   "id": "900845fc",
   "metadata": {},
   "outputs": [
    {
     "name": "stdout",
     "output_type": "stream",
     "text": [
      "Skewness for x_values is:  0.22694415532248588\n",
      "Skewness for y_values is:  0.8125923882515086\n",
      "Kurtosis for x_values is:  0    0.572773\n",
      "Name: speed, dtype: float64\n",
      "Kurtosis for y_values is:  0    0.18851\n",
      "Name: dist, dtype: float64\n"
     ]
    }
   ],
   "source": [
    "\n",
    "import numpy as np\n",
    "\n",
    "#Calculate mean\n",
    "mean_x= data['speed'].mean()\n",
    "mean_y = data['dist'].mean()\n",
    "\n",
    "#Calculate median\n",
    "median_x = data['speed'].median()\n",
    "median_y = data['dist'].median()\n",
    "\n",
    "#Calculate Mode\n",
    "mode_x = data['speed'].mode()\n",
    "mode_y = data['dist'].mode()\n",
    "\n",
    "#Calculate standard deviation\n",
    "stdev_x = data['speed'].std()\n",
    "stdev_y = data['dist'].std()\n",
    "\n",
    "#Calculate Skewness\n",
    "\n",
    "skewness_x = (3*(mean_x - median_x))/stdev_x\n",
    "\n",
    "skewness_y = (3*(mean_y - median_y))/stdev_y\n",
    "\n",
    "\n",
    "#Calculate Kurtosis\n",
    "\n",
    "kurtosis_x = ((mean_x - mode_x) / stdev_x)**4\n",
    "\n",
    "kurtosis_y = ((mean_y - mode_y) / stdev_y)**4\n",
    "\n",
    "\n",
    "print(\"Skewness for x_values is: \", skewness_x)\n",
    "\n",
    "print(\"Skewness for y_values is: \", skewness_y)\n",
    "\n",
    "\n",
    "print(\"Kurtosis for x_values is: \", kurtosis_x)\n",
    "\n",
    "print(\"Kurtosis for y_values is: \", kurtosis_y)"
   ]
  },
  {
   "cell_type": "markdown",
   "id": "2c92d941",
   "metadata": {},
   "source": [
    "# SP and Weight(WT)\n",
    "\n",
    "data = pd.read_csv(\"Q9_b.csv\",sep=\",\")\n",
    "data"
   ]
  },
  {
   "cell_type": "code",
   "execution_count": 14,
   "id": "6ac5866c",
   "metadata": {},
   "outputs": [
    {
     "data": {
      "text/html": [
       "<div>\n",
       "<style scoped>\n",
       "    .dataframe tbody tr th:only-of-type {\n",
       "        vertical-align: middle;\n",
       "    }\n",
       "\n",
       "    .dataframe tbody tr th {\n",
       "        vertical-align: top;\n",
       "    }\n",
       "\n",
       "    .dataframe thead th {\n",
       "        text-align: right;\n",
       "    }\n",
       "</style>\n",
       "<table border=\"1\" class=\"dataframe\">\n",
       "  <thead>\n",
       "    <tr style=\"text-align: right;\">\n",
       "      <th></th>\n",
       "      <th>Unnamed: 0</th>\n",
       "      <th>SP</th>\n",
       "      <th>WT</th>\n",
       "    </tr>\n",
       "  </thead>\n",
       "  <tbody>\n",
       "    <tr>\n",
       "      <th>0</th>\n",
       "      <td>1</td>\n",
       "      <td>104.185353</td>\n",
       "      <td>28.762059</td>\n",
       "    </tr>\n",
       "    <tr>\n",
       "      <th>1</th>\n",
       "      <td>2</td>\n",
       "      <td>105.461264</td>\n",
       "      <td>30.466833</td>\n",
       "    </tr>\n",
       "    <tr>\n",
       "      <th>2</th>\n",
       "      <td>3</td>\n",
       "      <td>105.461264</td>\n",
       "      <td>30.193597</td>\n",
       "    </tr>\n",
       "    <tr>\n",
       "      <th>3</th>\n",
       "      <td>4</td>\n",
       "      <td>113.461264</td>\n",
       "      <td>30.632114</td>\n",
       "    </tr>\n",
       "    <tr>\n",
       "      <th>4</th>\n",
       "      <td>5</td>\n",
       "      <td>104.461264</td>\n",
       "      <td>29.889149</td>\n",
       "    </tr>\n",
       "    <tr>\n",
       "      <th>...</th>\n",
       "      <td>...</td>\n",
       "      <td>...</td>\n",
       "      <td>...</td>\n",
       "    </tr>\n",
       "    <tr>\n",
       "      <th>76</th>\n",
       "      <td>77</td>\n",
       "      <td>169.598513</td>\n",
       "      <td>16.132947</td>\n",
       "    </tr>\n",
       "    <tr>\n",
       "      <th>77</th>\n",
       "      <td>78</td>\n",
       "      <td>150.576579</td>\n",
       "      <td>37.923113</td>\n",
       "    </tr>\n",
       "    <tr>\n",
       "      <th>78</th>\n",
       "      <td>79</td>\n",
       "      <td>151.598513</td>\n",
       "      <td>15.769625</td>\n",
       "    </tr>\n",
       "    <tr>\n",
       "      <th>79</th>\n",
       "      <td>80</td>\n",
       "      <td>167.944460</td>\n",
       "      <td>39.423099</td>\n",
       "    </tr>\n",
       "    <tr>\n",
       "      <th>80</th>\n",
       "      <td>81</td>\n",
       "      <td>139.840817</td>\n",
       "      <td>34.948615</td>\n",
       "    </tr>\n",
       "  </tbody>\n",
       "</table>\n",
       "<p>81 rows × 3 columns</p>\n",
       "</div>"
      ],
      "text/plain": [
       "    Unnamed: 0          SP         WT\n",
       "0            1  104.185353  28.762059\n",
       "1            2  105.461264  30.466833\n",
       "2            3  105.461264  30.193597\n",
       "3            4  113.461264  30.632114\n",
       "4            5  104.461264  29.889149\n",
       "..         ...         ...        ...\n",
       "76          77  169.598513  16.132947\n",
       "77          78  150.576579  37.923113\n",
       "78          79  151.598513  15.769625\n",
       "79          80  167.944460  39.423099\n",
       "80          81  139.840817  34.948615\n",
       "\n",
       "[81 rows x 3 columns]"
      ]
     },
     "execution_count": 14,
     "metadata": {},
     "output_type": "execute_result"
    }
   ],
   "source": [
    "data = pd.read_csv(\"Q9_b.csv\",sep=\",\")\n",
    "data"
   ]
  },
  {
   "cell_type": "code",
   "execution_count": 15,
   "id": "308243ad",
   "metadata": {},
   "outputs": [
    {
     "data": {
      "text/html": [
       "<div>\n",
       "<style scoped>\n",
       "    .dataframe tbody tr th:only-of-type {\n",
       "        vertical-align: middle;\n",
       "    }\n",
       "\n",
       "    .dataframe tbody tr th {\n",
       "        vertical-align: top;\n",
       "    }\n",
       "\n",
       "    .dataframe thead th {\n",
       "        text-align: right;\n",
       "    }\n",
       "</style>\n",
       "<table border=\"1\" class=\"dataframe\">\n",
       "  <thead>\n",
       "    <tr style=\"text-align: right;\">\n",
       "      <th></th>\n",
       "      <th>Unnamed: 0</th>\n",
       "      <th>SP</th>\n",
       "      <th>WT</th>\n",
       "    </tr>\n",
       "  </thead>\n",
       "  <tbody>\n",
       "    <tr>\n",
       "      <th>0</th>\n",
       "      <td>1</td>\n",
       "      <td>104.185353</td>\n",
       "      <td>28.762059</td>\n",
       "    </tr>\n",
       "    <tr>\n",
       "      <th>1</th>\n",
       "      <td>2</td>\n",
       "      <td>105.461264</td>\n",
       "      <td>30.466833</td>\n",
       "    </tr>\n",
       "    <tr>\n",
       "      <th>2</th>\n",
       "      <td>3</td>\n",
       "      <td>105.461264</td>\n",
       "      <td>30.193597</td>\n",
       "    </tr>\n",
       "    <tr>\n",
       "      <th>3</th>\n",
       "      <td>4</td>\n",
       "      <td>113.461264</td>\n",
       "      <td>30.632114</td>\n",
       "    </tr>\n",
       "    <tr>\n",
       "      <th>4</th>\n",
       "      <td>5</td>\n",
       "      <td>104.461264</td>\n",
       "      <td>29.889149</td>\n",
       "    </tr>\n",
       "  </tbody>\n",
       "</table>\n",
       "</div>"
      ],
      "text/plain": [
       "   Unnamed: 0          SP         WT\n",
       "0           1  104.185353  28.762059\n",
       "1           2  105.461264  30.466833\n",
       "2           3  105.461264  30.193597\n",
       "3           4  113.461264  30.632114\n",
       "4           5  104.461264  29.889149"
      ]
     },
     "execution_count": 15,
     "metadata": {},
     "output_type": "execute_result"
    }
   ],
   "source": [
    "data.head(5)"
   ]
  },
  {
   "cell_type": "code",
   "execution_count": 16,
   "id": "eabd86a1",
   "metadata": {},
   "outputs": [
    {
     "name": "stdout",
     "output_type": "stream",
     "text": [
      "Skewness for x_values is:  0.7047752047164724\n",
      "Skewness for y_values is:  -0.12890002854672977\n",
      "Kurtosis for x_values is:  0    0.002763\n",
      "Name: SP, dtype: float64\n",
      "Kurtosis for y_values is:  0     24.674992\n",
      "1     24.435461\n",
      "2     24.341190\n",
      "3     24.030087\n",
      "4     23.887307\n",
      "        ...    \n",
      "76     3.662732\n",
      "77     4.545445\n",
      "78     4.608700\n",
      "79     5.745615\n",
      "80    56.969016\n",
      "Name: WT, Length: 81, dtype: float64\n"
     ]
    }
   ],
   "source": [
    "import numpy as np\n",
    "\n",
    "#Calculate mean\n",
    "mean_x= data['SP'].mean()\n",
    "mean_y = data['WT'].mean()\n",
    "\n",
    "#Calculate median\n",
    "median_x = data['SP'].median()\n",
    "median_y = data['WT'].median()\n",
    "\n",
    "#Calculate Mode\n",
    "mode_x = data['SP'].mode()\n",
    "mode_y = data['WT'].mode()\n",
    "\n",
    "#Calculate standard deviation\n",
    "stdev_x = data['SP'].std()\n",
    "stdev_y = data['WT'].std()\n",
    "\n",
    "#Calculate Skewness\n",
    "\n",
    "skewness_x = (3*(mean_x - median_x))/stdev_x\n",
    "\n",
    "skewness_y = (3*(mean_y - median_y))/stdev_y\n",
    "\n",
    "\n",
    "#Calculate Kurtosis\n",
    "\n",
    "kurtosis_x = ((mean_x - mode_x) / stdev_x)**4\n",
    "\n",
    "kurtosis_y = ((mean_y - mode_y) / stdev_y)**4\n",
    "\n",
    "\n",
    "print(\"Skewness for x_values is: \", skewness_x)\n",
    "\n",
    "print(\"Skewness for y_values is: \", skewness_y)\n",
    "\n",
    "\n",
    "print(\"Kurtosis for x_values is: \", kurtosis_x)\n",
    "\n",
    "print(\"Kurtosis for y_values is: \", kurtosis_y)"
   ]
  },
  {
   "cell_type": "code",
   "execution_count": null,
   "id": "bd369b32",
   "metadata": {},
   "outputs": [],
   "source": []
  },
  {
   "cell_type": "markdown",
   "id": "a1e7cbce",
   "metadata": {},
   "source": [
    "# Q10) Draw inferences about the following boxplot & histogram\n"
   ]
  },
  {
   "cell_type": "raw",
   "id": "796088dd",
   "metadata": {},
   "source": [
    " \n",
    " \n",
    "Solution\n",
    " \n",
    "Here we can see that the major Chick weights fall in the catogory of 50-100g(measures in x) as the maximum which is 200.The minimum weights have afrequency if less than or equal to 5.\n",
    " \n",
    "The plot is Right skewed which show that there is lesser concentration ofchick weights in the 300-400gram category .\n",
    " \n",
    "The expected value should be above 46.45\n"
   ]
  },
  {
   "cell_type": "raw",
   "id": "0f95aaea",
   "metadata": {},
   "source": [
    "Solution\n",
    "     \n",
    "Median is less than mean right skewed and we have outlier on the upperside ofbox plot and there is less data points between Q1 and bottom point."
   ]
  },
  {
   "cell_type": "markdown",
   "id": "a2e04a96",
   "metadata": {},
   "source": [
    "# Q11)  Suppose we want to estimate the average weight of an adult male in    Mexico. We draw a random sample of 2,000 men from a population of 3,000,000 men and weigh them. We find that the average person in our sample weighs 200 pounds, and the standard deviation of the sample is 30 pounds. Calculate 94%,98%,96% confidence interval?\n"
   ]
  },
  {
   "cell_type": "code",
   "execution_count": null,
   "id": "a0c1485c",
   "metadata": {},
   "outputs": [],
   "source": []
  },
  {
   "cell_type": "code",
   "execution_count": 4,
   "id": "6fb1f69d",
   "metadata": {},
   "outputs": [
    {
     "name": "stdout",
     "output_type": "stream",
     "text": [
      "Critical t-value: 1.882\n",
      "Margin of Error: 1.262\n",
      "Confidence Interval: [198.738,201.262]\n",
      "The 94.0% confidence interval for the population mean is:\n",
      "between 198.738 and 201.262\n"
     ]
    }
   ],
   "source": [
    " import scipy.stats as stats\n",
    "import math\n",
    "\n",
    "# Specify sample mean (x_bar), sample standard deviation (s), sample size (n) and confidence level\n",
    "x_bar = 200\n",
    "s = 30\n",
    "n = 2000\n",
    "confidence_level = 0.94\n",
    "\n",
    "# Calculate alpha, degrees of freedom (df), the critical t-value, and the margin of error\n",
    "alpha = (1-confidence_level)\n",
    "df = n - 1\n",
    "standard_error = s/math.sqrt(n)\n",
    "critical_t = stats.t.ppf(1-alpha/2, df)\n",
    "margin_of_error = critical_t * standard_error\n",
    "\n",
    "# Calculate the lower and upper bound of the confidence interval\n",
    "lower_bound = x_bar - margin_of_error\n",
    "upper_bound = x_bar + margin_of_error\n",
    "\n",
    "# Print the results\n",
    "print(\"Critical t-value: {:.3f}\".format(critical_t))\n",
    "print(\"Margin of Error: {:.3f}\".format(margin_of_error))\n",
    "print(\"Confidence Interval: [{:.3f},{:.3f}]\".format(lower_bound,upper_bound))\n",
    "print(\"The {:.1%} confidence interval for the population mean is:\".format(confidence_level))\n",
    "print(\"between {:.3f} and {:.3f}\".format(lower_bound,upper_bound))\n"
   ]
  },
  {
   "cell_type": "code",
   "execution_count": 5,
   "id": "e667ed57",
   "metadata": {},
   "outputs": [
    {
     "name": "stdout",
     "output_type": "stream",
     "text": [
      "Critical t-value: 2.150\n",
      "Margin of Error: 5.284\n",
      "Confidence Interval: [56.816,67.384]\n",
      "The 96.0% confidence interval for the population mean is:\n",
      "between 56.816 and 67.384\n"
     ]
    }
   ],
   "source": [
    "import scipy.stats as stats\n",
    "import math\n",
    "\n",
    "# Specify sample mean (x_bar), sample standard deviation (s), sample size (n) and confidence level\n",
    "x_bar = 62.1\n",
    "s = 13.46\n",
    "n = 30\n",
    "confidence_level = 0.96\n",
    "\n",
    "# Calculate alpha, degrees of freedom (df), the critical t-value, and the margin of error\n",
    "alpha = (1-confidence_level)\n",
    "df = n - 1\n",
    "standard_error = s/math.sqrt(n)\n",
    "critical_t = stats.t.ppf(1-alpha/2, df)\n",
    "margin_of_error = critical_t * standard_error\n",
    "\n",
    "# Calculate the lower and upper bound of the confidence interval\n",
    "lower_bound = x_bar - margin_of_error\n",
    "upper_bound = x_bar + margin_of_error\n",
    "\n",
    "# Print the results\n",
    "print(\"Critical t-value: {:.3f}\".format(critical_t))\n",
    "print(\"Margin of Error: {:.3f}\".format(margin_of_error))\n",
    "print(\"Confidence Interval: [{:.3f},{:.3f}]\".format(lower_bound,upper_bound))\n",
    "print(\"The {:.1%} confidence interval for the population mean is:\".format(confidence_level))\n",
    "print(\"between {:.3f} and {:.3f}\".format(lower_bound,upper_bound))"
   ]
  },
  {
   "cell_type": "code",
   "execution_count": 6,
   "id": "3c10b143",
   "metadata": {},
   "outputs": [
    {
     "name": "stdout",
     "output_type": "stream",
     "text": [
      "Critical t-value: 2.462\n",
      "Margin of Error: 6.050\n",
      "Confidence Interval: [56.050,68.150]\n",
      "The 98.0% confidence interval for the population mean is:\n",
      "between 56.050 and 68.150\n"
     ]
    }
   ],
   "source": [
    "import scipy.stats as stats\n",
    "import math\n",
    "\n",
    "# Specify sample mean (x_bar), sample standard deviation (s), sample size (n) and confidence level\n",
    "x_bar = 62.1\n",
    "s = 13.46\n",
    "n = 30\n",
    "confidence_level = 0.98\n",
    "\n",
    "# Calculate alpha, degrees of freedom (df), the critical t-value, and the margin of error\n",
    "alpha = (1-confidence_level)\n",
    "df = n - 1\n",
    "standard_error = s/math.sqrt(n)\n",
    "critical_t = stats.t.ppf(1-alpha/2, df)\n",
    "margin_of_error = critical_t * standard_error\n",
    "\n",
    "# Calculate the lower and upper bound of the confidence interval\n",
    "lower_bound = x_bar - margin_of_error\n",
    "upper_bound = x_bar + margin_of_error\n",
    "\n",
    "# Print the results\n",
    "print(\"Critical t-value: {:.3f}\".format(critical_t))\n",
    "print(\"Margin of Error: {:.3f}\".format(margin_of_error))\n",
    "print(\"Confidence Interval: [{:.3f},{:.3f}]\".format(lower_bound,upper_bound))\n",
    "print(\"The {:.1%} confidence interval for the population mean is:\".format(confidence_level))\n",
    "print(\"between {:.3f} and {:.3f}\".format(lower_bound,upper_bound))"
   ]
  },
  {
   "cell_type": "raw",
   "id": "8a764660",
   "metadata": {},
   "source": []
  },
  {
   "cell_type": "markdown",
   "id": "4da90ee8",
   "metadata": {},
   "source": [
    "# Q12)  Below are the scores obtained by a student in tests \n",
    "34,36,36,38,38,39,39,40,40,41,41,41,41,42,42,45,49,56\n",
    "1)\tFind mean, median, variance, standard deviation.\n",
    "2)\tWhat can we say about the student marks? \n"
   ]
  },
  {
   "cell_type": "code",
   "execution_count": 9,
   "id": "808734c7",
   "metadata": {},
   "outputs": [],
   "source": [
    "#1)\tFind mean, median, variance, standard deviation.\n",
    "import numpy as np\n",
    "array = [34,36,36,38,38,39,39,40,40,41,41,41,41,42,42,45,49,56]\n"
   ]
  },
  {
   "cell_type": "code",
   "execution_count": 17,
   "id": "832c942e",
   "metadata": {},
   "outputs": [
    {
     "data": {
      "text/plain": [
       "41.0"
      ]
     },
     "execution_count": 17,
     "metadata": {},
     "output_type": "execute_result"
    }
   ],
   "source": [
    "np.mean(array)\n"
   ]
  },
  {
   "cell_type": "code",
   "execution_count": 18,
   "id": "ae1eb501",
   "metadata": {},
   "outputs": [
    {
     "data": {
      "text/plain": [
       "40.5"
      ]
     },
     "execution_count": 18,
     "metadata": {},
     "output_type": "execute_result"
    }
   ],
   "source": [
    "np.median(array)"
   ]
  },
  {
   "cell_type": "code",
   "execution_count": 19,
   "id": "5c345189",
   "metadata": {},
   "outputs": [
    {
     "data": {
      "text/plain": [
       "24.11111111111111"
      ]
     },
     "execution_count": 19,
     "metadata": {},
     "output_type": "execute_result"
    }
   ],
   "source": [
    "np.var(array)"
   ]
  },
  {
   "cell_type": "code",
   "execution_count": 20,
   "id": "c600c29e",
   "metadata": {},
   "outputs": [
    {
     "data": {
      "text/plain": [
       "4.910306620885412"
      ]
     },
     "execution_count": 20,
     "metadata": {},
     "output_type": "execute_result"
    }
   ],
   "source": [
    "np.std(array)"
   ]
  },
  {
   "cell_type": "raw",
   "id": "41351a79",
   "metadata": {},
   "source": [
    "# What can we say about the student marks?\n",
    "maximum marks are clustered near the mean marks.\n"
   ]
  },
  {
   "cell_type": "raw",
   "id": "3d4c82d8",
   "metadata": {},
   "source": []
  },
  {
   "cell_type": "raw",
   "id": "716af3c0",
   "metadata": {},
   "source": [
    "Q13) What is the nature of skewness when mean, median of data are equal?\n",
    "     Zero Skewness.\n",
    "     \n",
    "     \n",
    "Q14) What is the nature of skewness when mean > median ?\n",
    "     \n",
    "     - Positively Skewed.\n",
    "\n",
    "\n",
    "Q15) What is the nature of skewness when median > mean?\n",
    "     \n",
    "  Ans:  Negative Skewed.\n",
    "\n",
    "\n",
    "Q16) What does positive kurtosis value indicates for a data ?\n",
    "     \n",
    "  Ans:  Distribution is peaked and possesses thick tails.\n",
    "\n",
    "\n",
    "Q17) What does negative kurtosis value indicates for a data?\n",
    "     \n",
    "  Ans:  The distribution has lighter tails than the normal distribution.\n"
   ]
  },
  {
   "cell_type": "markdown",
   "id": "fd6c03c3",
   "metadata": {},
   "source": [
    "# Q18) Answer the below questions using the below boxplot visualization.\n",
    " \n",
    "What can we say about the distribution of the data?\n",
    "What is nature of skewness of the data?\n",
    "What will be the IQR of the data (approximately)? \n",
    "\n",
    "\n",
    "Ans1:  The above Boxplot is not normally distributed the median is towards the higher value.\n",
    "\n",
    "\n",
    "Ans2:  The data is a skewed towards left. The whisker range of minimum value is greater than maximum.\n",
    "\n",
    "Ans3:  he Inter Quantile Range = Q3 Upper quartile – Q1 Lower Quartile = 18 – 10 =8.\n"
   ]
  },
  {
   "cell_type": "markdown",
   "id": "6a4aff2e",
   "metadata": {},
   "source": []
  },
  {
   "cell_type": "markdown",
   "id": "43bc03de",
   "metadata": {},
   "source": [
    "# Q19) Comment on the below Boxplot visualizations?\n",
    "\n",
    "Draw an Inference from the distribution of data for Boxplot 1 with respect Boxplot 2. \n",
    "\n",
    "\n",
    "Ans: There are no outliers, both the box plot shares the same median that is approximately in a range between 275 to 250 and they are normally distributed with zero to no skewness neither at the minimum or maximum whisker range."
   ]
  },
  {
   "cell_type": "code",
   "execution_count": null,
   "id": "683f0865",
   "metadata": {},
   "outputs": [],
   "source": []
  },
  {
   "cell_type": "markdown",
   "id": "51f03a2b",
   "metadata": {},
   "source": [
    "# Q 20) Calculate probability from the given dataset for the below cases\n",
    "\n",
    "Data _set: Cars.csv\n",
    "Calculate the probability of MPG  of Cars for the below cases.\n",
    "       MPG <- Cars$MPG\n",
    "a.\tP(MPG>38)\n",
    "b.\tP(MPG<40)\n",
    "c.    P (20<MPG<50)\n"
   ]
  },
  {
   "cell_type": "code",
   "execution_count": 1,
   "id": "94c15ca1",
   "metadata": {},
   "outputs": [],
   "source": [
    "import pandas as pd\n",
    "import numpy as np\n",
    "import matplotlib.pyplot as plt\n",
    "import seaborn as sns\n",
    "from scipy import stats\n",
    "from scipy.stats import norm"
   ]
  },
  {
   "cell_type": "code",
   "execution_count": 4,
   "id": "baae8225",
   "metadata": {},
   "outputs": [
    {
     "data": {
      "text/html": [
       "<div>\n",
       "<style scoped>\n",
       "    .dataframe tbody tr th:only-of-type {\n",
       "        vertical-align: middle;\n",
       "    }\n",
       "\n",
       "    .dataframe tbody tr th {\n",
       "        vertical-align: top;\n",
       "    }\n",
       "\n",
       "    .dataframe thead th {\n",
       "        text-align: right;\n",
       "    }\n",
       "</style>\n",
       "<table border=\"1\" class=\"dataframe\">\n",
       "  <thead>\n",
       "    <tr style=\"text-align: right;\">\n",
       "      <th></th>\n",
       "      <th>HP</th>\n",
       "      <th>MPG</th>\n",
       "      <th>VOL</th>\n",
       "      <th>SP</th>\n",
       "      <th>WT</th>\n",
       "    </tr>\n",
       "  </thead>\n",
       "  <tbody>\n",
       "    <tr>\n",
       "      <th>0</th>\n",
       "      <td>49</td>\n",
       "      <td>53.700681</td>\n",
       "      <td>89</td>\n",
       "      <td>104.185353</td>\n",
       "      <td>28.762059</td>\n",
       "    </tr>\n",
       "    <tr>\n",
       "      <th>1</th>\n",
       "      <td>55</td>\n",
       "      <td>50.013401</td>\n",
       "      <td>92</td>\n",
       "      <td>105.461264</td>\n",
       "      <td>30.466833</td>\n",
       "    </tr>\n",
       "    <tr>\n",
       "      <th>2</th>\n",
       "      <td>55</td>\n",
       "      <td>50.013401</td>\n",
       "      <td>92</td>\n",
       "      <td>105.461264</td>\n",
       "      <td>30.193597</td>\n",
       "    </tr>\n",
       "    <tr>\n",
       "      <th>3</th>\n",
       "      <td>70</td>\n",
       "      <td>45.696322</td>\n",
       "      <td>92</td>\n",
       "      <td>113.461264</td>\n",
       "      <td>30.632114</td>\n",
       "    </tr>\n",
       "    <tr>\n",
       "      <th>4</th>\n",
       "      <td>53</td>\n",
       "      <td>50.504232</td>\n",
       "      <td>92</td>\n",
       "      <td>104.461264</td>\n",
       "      <td>29.889149</td>\n",
       "    </tr>\n",
       "    <tr>\n",
       "      <th>...</th>\n",
       "      <td>...</td>\n",
       "      <td>...</td>\n",
       "      <td>...</td>\n",
       "      <td>...</td>\n",
       "      <td>...</td>\n",
       "    </tr>\n",
       "    <tr>\n",
       "      <th>76</th>\n",
       "      <td>322</td>\n",
       "      <td>36.900000</td>\n",
       "      <td>50</td>\n",
       "      <td>169.598513</td>\n",
       "      <td>16.132947</td>\n",
       "    </tr>\n",
       "    <tr>\n",
       "      <th>77</th>\n",
       "      <td>238</td>\n",
       "      <td>19.197888</td>\n",
       "      <td>115</td>\n",
       "      <td>150.576579</td>\n",
       "      <td>37.923113</td>\n",
       "    </tr>\n",
       "    <tr>\n",
       "      <th>78</th>\n",
       "      <td>263</td>\n",
       "      <td>34.000000</td>\n",
       "      <td>50</td>\n",
       "      <td>151.598513</td>\n",
       "      <td>15.769625</td>\n",
       "    </tr>\n",
       "    <tr>\n",
       "      <th>79</th>\n",
       "      <td>295</td>\n",
       "      <td>19.833733</td>\n",
       "      <td>119</td>\n",
       "      <td>167.944460</td>\n",
       "      <td>39.423099</td>\n",
       "    </tr>\n",
       "    <tr>\n",
       "      <th>80</th>\n",
       "      <td>236</td>\n",
       "      <td>12.101263</td>\n",
       "      <td>107</td>\n",
       "      <td>139.840817</td>\n",
       "      <td>34.948615</td>\n",
       "    </tr>\n",
       "  </tbody>\n",
       "</table>\n",
       "<p>81 rows × 5 columns</p>\n",
       "</div>"
      ],
      "text/plain": [
       "     HP        MPG  VOL          SP         WT\n",
       "0    49  53.700681   89  104.185353  28.762059\n",
       "1    55  50.013401   92  105.461264  30.466833\n",
       "2    55  50.013401   92  105.461264  30.193597\n",
       "3    70  45.696322   92  113.461264  30.632114\n",
       "4    53  50.504232   92  104.461264  29.889149\n",
       "..  ...        ...  ...         ...        ...\n",
       "76  322  36.900000   50  169.598513  16.132947\n",
       "77  238  19.197888  115  150.576579  37.923113\n",
       "78  263  34.000000   50  151.598513  15.769625\n",
       "79  295  19.833733  119  167.944460  39.423099\n",
       "80  236  12.101263  107  139.840817  34.948615\n",
       "\n",
       "[81 rows x 5 columns]"
      ]
     },
     "execution_count": 4,
     "metadata": {},
     "output_type": "execute_result"
    }
   ],
   "source": [
    "cars=pd.read_csv('Cars.csv')\n",
    "cars"
   ]
  },
  {
   "cell_type": "code",
   "execution_count": 5,
   "id": "b9f0acfe",
   "metadata": {},
   "outputs": [
    {
     "data": {
      "text/plain": [
       "<Axes: >"
      ]
     },
     "execution_count": 5,
     "metadata": {},
     "output_type": "execute_result"
    },
    {
     "data": {
      "image/png": "[encoded data removed]",
      "text/plain": [
       "<Figure size 640x480 with 1 Axes>"
      ]
     },
     "metadata": {},
     "output_type": "display_data"
    }
   ],
   "source": [
    "sns.boxplot(cars.MPG)"
   ]
  },
  {
   "cell_type": "code",
   "execution_count": 6,
   "id": "bf34720f",
   "metadata": {},
   "outputs": [
    {
     "data": {
      "text/plain": [
       "0.34759392515827137"
      ]
     },
     "execution_count": 6,
     "metadata": {},
     "output_type": "execute_result"
    }
   ],
   "source": [
    "# P(MPG>38)\n",
    "1-stats.norm.cdf(38,cars.MPG.mean(),cars.MPG.std())"
   ]
  },
  {
   "cell_type": "code",
   "execution_count": 7,
   "id": "38506845",
   "metadata": {},
   "outputs": [
    {
     "data": {
      "text/plain": [
       "0.7293498762151609"
      ]
     },
     "execution_count": 7,
     "metadata": {},
     "output_type": "execute_result"
    }
   ],
   "source": [
    "# P(MPG<40)\n",
    "stats.norm.cdf(40,cars.MPG.mean(),cars.MPG.std())"
   ]
  },
  {
   "cell_type": "code",
   "execution_count": 11,
   "id": "1e068cc7",
   "metadata": {},
   "outputs": [
    {
     "data": {
      "text/plain": [
       "1.2430968797327491e-05"
      ]
     },
     "execution_count": 11,
     "metadata": {},
     "output_type": "execute_result"
    }
   ],
   "source": [
    "# P (20<MPG<50)\n",
    "stats.norm.cdf(0.50,cars.MPG.mean(),cars.MPG.std())-stats.norm.cdf(0.20,cars.MPG.mean(),cars.MPG.std())"
   ]
  },
  {
   "cell_type": "code",
   "execution_count": null,
   "id": "11739f94",
   "metadata": {},
   "outputs": [],
   "source": []
  },
  {
   "cell_type": "markdown",
   "id": "a7b62035",
   "metadata": {},
   "source": [
    "# Q 21) Check whether the data follows normal distribution\n",
    "a)\tCheck whether the MPG of Cars follows Normal Distribution \n",
    "        Dataset: Cars.csv\n"
   ]
  },
  {
   "cell_type": "code",
   "execution_count": 12,
   "id": "2b5d41c2",
   "metadata": {},
   "outputs": [
    {
     "data": {
      "text/plain": [
       "0     53.700681\n",
       "1     50.013401\n",
       "2     50.013401\n",
       "3     45.696322\n",
       "4     50.504232\n",
       "        ...    \n",
       "76    36.900000\n",
       "77    19.197888\n",
       "78    34.000000\n",
       "79    19.833733\n",
       "80    12.101263\n",
       "Name: MPG, Length: 81, dtype: float64"
      ]
     },
     "execution_count": 12,
     "metadata": {},
     "output_type": "execute_result"
    }
   ],
   "source": [
    "cars['MPG']"
   ]
  },
  {
   "cell_type": "code",
   "execution_count": 13,
   "id": "7cade1ec",
   "metadata": {},
   "outputs": [
    {
     "data": {
      "text/plain": [
       "<Axes: >"
      ]
     },
     "execution_count": 13,
     "metadata": {},
     "output_type": "execute_result"
    },
    {
     "data": {
      "image/png": "[encoded data removed]",
      "text/plain": [
       "<Figure size 640x480 with 1 Axes>"
      ]
     },
     "metadata": {},
     "output_type": "display_data"
    }
   ],
   "source": [
    "cars['MPG'].hist()"
   ]
  },
  {
   "cell_type": "code",
   "execution_count": null,
   "id": "ff03af31",
   "metadata": {},
   "outputs": [],
   "source": [
    "#As we see above in the histogram MPG of cars follows the normal distrirbution."
   ]
  },
  {
   "cell_type": "markdown",
   "id": "b7364613",
   "metadata": {},
   "source": [
    "# b)\tCheck Whether the Adipose Tissue (AT) and Waist Circumference(Waist)  from wc-at data set  follows Normal Distribution \n",
    "       Dataset: wc-at.csv\n"
   ]
  },
  {
   "cell_type": "code",
   "execution_count": 15,
   "id": "9a382fd1",
   "metadata": {},
   "outputs": [
    {
     "data": {
      "text/html": [
       "<div>\n",
       "<style scoped>\n",
       "    .dataframe tbody tr th:only-of-type {\n",
       "        vertical-align: middle;\n",
       "    }\n",
       "\n",
       "    .dataframe tbody tr th {\n",
       "        vertical-align: top;\n",
       "    }\n",
       "\n",
       "    .dataframe thead th {\n",
       "        text-align: right;\n",
       "    }\n",
       "</style>\n",
       "<table border=\"1\" class=\"dataframe\">\n",
       "  <thead>\n",
       "    <tr style=\"text-align: right;\">\n",
       "      <th></th>\n",
       "      <th>Waist</th>\n",
       "      <th>AT</th>\n",
       "    </tr>\n",
       "  </thead>\n",
       "  <tbody>\n",
       "    <tr>\n",
       "      <th>0</th>\n",
       "      <td>74.75</td>\n",
       "      <td>25.72</td>\n",
       "    </tr>\n",
       "    <tr>\n",
       "      <th>1</th>\n",
       "      <td>72.60</td>\n",
       "      <td>25.89</td>\n",
       "    </tr>\n",
       "    <tr>\n",
       "      <th>2</th>\n",
       "      <td>81.80</td>\n",
       "      <td>42.60</td>\n",
       "    </tr>\n",
       "    <tr>\n",
       "      <th>3</th>\n",
       "      <td>83.95</td>\n",
       "      <td>42.80</td>\n",
       "    </tr>\n",
       "    <tr>\n",
       "      <th>4</th>\n",
       "      <td>74.65</td>\n",
       "      <td>29.84</td>\n",
       "    </tr>\n",
       "    <tr>\n",
       "      <th>...</th>\n",
       "      <td>...</td>\n",
       "      <td>...</td>\n",
       "    </tr>\n",
       "    <tr>\n",
       "      <th>104</th>\n",
       "      <td>100.10</td>\n",
       "      <td>124.00</td>\n",
       "    </tr>\n",
       "    <tr>\n",
       "      <th>105</th>\n",
       "      <td>93.30</td>\n",
       "      <td>62.20</td>\n",
       "    </tr>\n",
       "    <tr>\n",
       "      <th>106</th>\n",
       "      <td>101.80</td>\n",
       "      <td>133.00</td>\n",
       "    </tr>\n",
       "    <tr>\n",
       "      <th>107</th>\n",
       "      <td>107.90</td>\n",
       "      <td>208.00</td>\n",
       "    </tr>\n",
       "    <tr>\n",
       "      <th>108</th>\n",
       "      <td>108.50</td>\n",
       "      <td>208.00</td>\n",
       "    </tr>\n",
       "  </tbody>\n",
       "</table>\n",
       "<p>109 rows × 2 columns</p>\n",
       "</div>"
      ],
      "text/plain": [
       "      Waist      AT\n",
       "0     74.75   25.72\n",
       "1     72.60   25.89\n",
       "2     81.80   42.60\n",
       "3     83.95   42.80\n",
       "4     74.65   29.84\n",
       "..      ...     ...\n",
       "104  100.10  124.00\n",
       "105   93.30   62.20\n",
       "106  101.80  133.00\n",
       "107  107.90  208.00\n",
       "108  108.50  208.00\n",
       "\n",
       "[109 rows x 2 columns]"
      ]
     },
     "execution_count": 15,
     "metadata": {},
     "output_type": "execute_result"
    }
   ],
   "source": [
    "data = pd.read_csv(\"WC-at.csv\")\n",
    "data"
   ]
  },
  {
   "cell_type": "code",
   "execution_count": 16,
   "id": "c0cd7c32",
   "metadata": {},
   "outputs": [
    {
     "data": {
      "text/plain": [
       "<Axes: >"
      ]
     },
     "execution_count": 16,
     "metadata": {},
     "output_type": "execute_result"
    },
    {
     "data": {
      "image/png": "[encoded data removed]",
      "text/plain": [
       "<Figure size 640x480 with 1 Axes>"
      ]
     },
     "metadata": {},
     "output_type": "display_data"
    }
   ],
   "source": [
    "data['Waist'].hist()"
   ]
  },
  {
   "cell_type": "code",
   "execution_count": 17,
   "id": "aa38692d",
   "metadata": {},
   "outputs": [
    {
     "data": {
      "text/plain": [
       "<Axes: >"
      ]
     },
     "execution_count": 17,
     "metadata": {},
     "output_type": "execute_result"
    },
    {
     "data": {
      "image/png": "[encoded data removed]",
      "text/plain": [
       "<Figure size 640x480 with 1 Axes>"
      ]
     },
     "metadata": {},
     "output_type": "display_data"
    }
   ],
   "source": [
    "data['AT'].hist()"
   ]
  },
  {
   "cell_type": "code",
   "execution_count": null,
   "id": "9514fbaa",
   "metadata": {},
   "outputs": [],
   "source": [
    "# As we can see that in above histograms both 'Waist' and 'AT' is not normally distributed."
   ]
  },
  {
   "cell_type": "code",
   "execution_count": null,
   "id": "c3c95072",
   "metadata": {},
   "outputs": [],
   "source": []
  },
  {
   "cell_type": "markdown",
   "id": "fd576031",
   "metadata": {},
   "source": [
    "# Q 22) Calculate the Z scores of  90% confidence interval,94% confidence interval, 60% confidence interval \n"
   ]
  },
  {
   "cell_type": "code",
   "execution_count": 18,
   "id": "1df33bb1",
   "metadata": {},
   "outputs": [
    {
     "name": "stdout",
     "output_type": "stream",
     "text": [
      "Z score for 90% Conifidence Intervla = -1.6449\n"
     ]
    }
   ],
   "source": [
    "print('Z score for 90% Conifidence Intervla =',np.round(stats.norm.ppf(.05),4))"
   ]
  },
  {
   "cell_type": "code",
   "execution_count": 19,
   "id": "f96a3a6f",
   "metadata": {},
   "outputs": [
    {
     "name": "stdout",
     "output_type": "stream",
     "text": [
      "Z score for 94% Conifidence Intervla = -1.8808\n"
     ]
    }
   ],
   "source": [
    "print('Z score for 94% Conifidence Intervla =',np.round(stats.norm.ppf(.03),4))"
   ]
  },
  {
   "cell_type": "code",
   "execution_count": 20,
   "id": "c5383f8b",
   "metadata": {},
   "outputs": [
    {
     "name": "stdout",
     "output_type": "stream",
     "text": [
      "Z score for 60% Conifidence Intervla = -0.8416\n"
     ]
    }
   ],
   "source": [
    "print('Z score for 60% Conifidence Intervla =',np.round(stats.norm.ppf(.2),4))"
   ]
  },
  {
   "cell_type": "code",
   "execution_count": null,
   "id": "0a3dbf72",
   "metadata": {},
   "outputs": [],
   "source": []
  },
  {
   "cell_type": "markdown",
   "id": "185228f0",
   "metadata": {},
   "source": [
    "# Q 23) Calculate the t scores of 95% confidence interval, 96% confidence interval, 99% confidence interval for sample size of 25"
   ]
  },
  {
   "cell_type": "code",
   "execution_count": 23,
   "id": "4dc5150b",
   "metadata": {},
   "outputs": [
    {
     "name": "stdout",
     "output_type": "stream",
     "text": [
      "T score for 95% Confidence Interval = -2.0639\n"
     ]
    }
   ],
   "source": [
    "print('T score for 95% Confidence Interval =',np.round(stats.t.ppf(0.025,df=24),4))"
   ]
  },
  {
   "cell_type": "code",
   "execution_count": 22,
   "id": "c6b2b899",
   "metadata": {},
   "outputs": [
    {
     "name": "stdout",
     "output_type": "stream",
     "text": [
      "T score for 94% Confidence Inteval = -1.974\n"
     ]
    }
   ],
   "source": [
    "print('T score for 94% Confidence Inteval =',np.round(stats.t.ppf(0.03,df=24),4))"
   ]
  },
  {
   "cell_type": "code",
   "execution_count": 21,
   "id": "b19ce6a4",
   "metadata": {},
   "outputs": [
    {
     "name": "stdout",
     "output_type": "stream",
     "text": [
      "T score for 95% Confidence Interval = -2.7969\n"
     ]
    }
   ],
   "source": [
    "print('T score for 95% Confidence Interval =',np.round(stats.t.ppf(0.005,df=24),4))"
   ]
  },
  {
   "cell_type": "markdown",
   "id": "cdfa80d9",
   "metadata": {},
   "source": []
  },
  {
   "cell_type": "markdown",
   "id": "1926c28b",
   "metadata": {},
   "source": [
    "#  Q 24)   A Government  company claims that an average light bulb lasts 270 days. A researcher randomly selects 18 bulbs for testing. The sampled bulbs last an average of 260 days, with a standard deviation of 90 days. If the CEO's claim were true, what is the probability that 18 randomly selected bulbs would have an average life of no more than 260 days\n",
    "Hint:  \n",
    "   rcode   pt(tscore,df)  \n",
    " df  degrees of freedom\n"
   ]
  },
  {
   "cell_type": "code",
   "execution_count": 34,
   "id": "3072c42b",
   "metadata": {},
   "outputs": [],
   "source": [
    "from scipy import stats\n",
    "from scipy.stats import norm"
   ]
  },
  {
   "cell_type": "code",
   "execution_count": 35,
   "id": "a564805d",
   "metadata": {},
   "outputs": [
    {
     "data": {
      "text/plain": [
       "-0.4714045207910317"
      ]
     },
     "execution_count": 35,
     "metadata": {},
     "output_type": "execute_result"
    }
   ],
   "source": [
    "t=(260-270)/(90/18**0.5)\n",
    "t"
   ]
  },
  {
   "cell_type": "code",
   "execution_count": 36,
   "id": "b19e56cb",
   "metadata": {},
   "outputs": [
    {
     "data": {
      "text/plain": [
       "0.32167411684460556"
      ]
     },
     "execution_count": 36,
     "metadata": {},
     "output_type": "execute_result"
    }
   ],
   "source": [
    "# p_value=1-stats.t.cdf(abs(t_scores),df=n-1)... Using cdf function\n",
    "p_value=1-stats.t.cdf(abs(-0.4714),df=17)\n",
    "p_value"
   ]
  },
  {
   "cell_type": "code",
   "execution_count": 37,
   "id": "25076be8",
   "metadata": {},
   "outputs": [
    {
     "data": {
      "text/plain": [
       "0.32167411684460556"
      ]
     },
     "execution_count": 37,
     "metadata": {},
     "output_type": "execute_result"
    }
   ],
   "source": [
    "#  OR p_value=stats.t.sf(abs(t_score),df=n-1)... Using sf function\n",
    "p_value=stats.t.sf(abs(-0.4714),df=17)\n",
    "p_value"
   ]
  },
  {
   "cell_type": "code",
   "execution_count": null,
   "id": "bc267f98",
   "metadata": {},
   "outputs": [],
   "source": []
  }
 ],
 "metadata": {
  "kernelspec": {
   "display_name": "Python 3 (ipykernel)",
   "language": "python",
   "name": "python3"
  },
  "language_info": {
   "codemirror_mode": {
    "name": "ipython",
    "version": 3
   },
   "file_extension": ".py",
   "mimetype": "text/x-python",
   "name": "python",
   "nbconvert_exporter": "python",
   "pygments_lexer": "ipython3",
   "version": "3.11.4"
  }
 },
 "nbformat": 4,
 "nbformat_minor": 5
}
